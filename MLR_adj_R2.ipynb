{
 "cells": [
  {
   "cell_type": "code",
   "execution_count": null,
   "metadata": {},
   "outputs": [],
   "source": [
    "import pandas as pd\n",
    "import numpy as np\n",
    "import seaborn as sn\n",
    "\n",
    "\n",
    "from scipy import stats\n",
    "from sklearn.model_selection import train_test_split\n",
    "from sklearn.linear_model import LinearRegression\n",
    "import matplotlib.pyplot as plt\n",
    "\n",
    "import statsmodels.api as sm"
   ]
  },
  {
   "cell_type": "code",
   "execution_count": null,
   "metadata": {},
   "outputs": [],
   "source": [
    "A=pd.read_csv('/Users/ranvir/Desktop/50_Startups.csv')\n",
    "A"
   ]
  },
  {
   "cell_type": "code",
   "execution_count": null,
   "metadata": {},
   "outputs": [],
   "source": [
    "sn.pairplot(A)"
   ]
  },
  {
   "cell_type": "code",
   "execution_count": null,
   "metadata": {},
   "outputs": [],
   "source": [
    "plt.show()"
   ]
  },
  {
   "cell_type": "code",
   "execution_count": null,
   "metadata": {},
   "outputs": [],
   "source": [
    "A.corr()"
   ]
  },
  {
   "cell_type": "code",
   "execution_count": null,
   "metadata": {
    "collapsed": true
   },
   "outputs": [],
   "source": [
    "X=A[['RND']]\n",
    "Y=A[['PROFIT']]\n",
    "xtrain,xtest,ytrain,ytest= train_test_split(X,Y,test_size=0.30,random_state=40)"
   ]
  },
  {
   "cell_type": "code",
   "execution_count": null,
   "metadata": {},
   "outputs": [],
   "source": [
    "lm=LinearRegression()\n",
    "model1=lm.fit(xtrain,ytrain)\n",
    "\n",
    "predicted_R=model1.predict(xtest)\n",
    "predicted_R"
   ]
  },
  {
   "cell_type": "code",
   "execution_count": null,
   "metadata": {},
   "outputs": [],
   "source": [
    "X2=sm.add_constant(xtrain)\n",
    "est=sm.OLS(ytrain,X2)\n",
    "est2=est.fit()\n",
    "print(est2.summary())\n"
   ]
  },
  {
   "cell_type": "code",
   "execution_count": null,
   "metadata": {
    "collapsed": true
   },
   "outputs": [],
   "source": [
    "#MLR MODEL- PREDICTOR ARE RND +ADMIN"
   ]
  },
  {
   "cell_type": "code",
   "execution_count": null,
   "metadata": {},
   "outputs": [],
   "source": [
    "X2=A[['RND','ADMIN']]\n",
    "Y2=A[['PROFIT']]\n",
    "x2train,x2test,y2train,y2test= train_test_split(X2,Y2,test_size=0.30,random_state=40)\n",
    "\n",
    "#predicted_RA\n",
    "lm=LinearRegression()\n",
    "model2=lm.fit(x2train,y2train)\n",
    "\n",
    "predicted_RA=model2.predict(x2test)\n",
    "predicted_RA"
   ]
  },
  {
   "cell_type": "code",
   "execution_count": null,
   "metadata": {},
   "outputs": [],
   "source": [
    "\n",
    "Z2=sm.add_constant(x2train)\n",
    "est=sm.OLS(ytrain,Z2)\n",
    "est2=est.fit()\n",
    "print(est2.summary())"
   ]
  },
  {
   "cell_type": "code",
   "execution_count": null,
   "metadata": {
    "collapsed": true
   },
   "outputs": [],
   "source": [
    "#MLR MODEL- PREDICTOR ARE RND + ADMIN + MKT"
   ]
  },
  {
   "cell_type": "code",
   "execution_count": null,
   "metadata": {},
   "outputs": [],
   "source": [
    "X2=A[['RND','ADMIN','MKT']]\n",
    "Y2=A[['PROFIT']]\n",
    "x2train,x2test,y2train,y2test= train_test_split(X2,Y2,test_size=0.30,random_state=40)\n",
    "\n",
    "#predict_RAM\n",
    "lm=LinearRegression()\n",
    "model3=lm.fit(x2train,y2train)\n",
    "\n",
    "predicted_RAM=model3.predict(x2test)\n",
    "predicted_RAM\n"
   ]
  },
  {
   "cell_type": "code",
   "execution_count": null,
   "metadata": {},
   "outputs": [],
   "source": [
    "\n",
    "Z2=sm.add_constant(x2train)\n",
    "est=sm.OLS(ytrain,Z2)\n",
    "est2=est.fit()\n",
    "print(est2.summary())"
   ]
  },
  {
   "cell_type": "code",
   "execution_count": null,
   "metadata": {
    "collapsed": true
   },
   "outputs": [],
   "source": [
    "#MLR MODEL- PREDICTOR ARE RND + MKT"
   ]
  },
  {
   "cell_type": "code",
   "execution_count": null,
   "metadata": {},
   "outputs": [],
   "source": [
    "X2=A[['RND','MKT']]\n",
    "Y2=A[['PROFIT']]\n",
    "x2train,x2test,y2train,y2test= train_test_split(X2,Y2,test_size=0.30,random_state=40)\n",
    "\n",
    "#predict_RM\n",
    "lm=LinearRegression()\n",
    "model4=lm.fit(x2train,y2train)\n",
    "\n",
    "predicted_R=model4.predict(x2test)\n",
    "predicted_R"
   ]
  },
  {
   "cell_type": "code",
   "execution_count": null,
   "metadata": {},
   "outputs": [],
   "source": [
    "\n",
    "Z2=sm.add_constant(x2train)\n",
    "est=sm.OLS(ytrain,Z2)\n",
    "est2=est.fit()\n",
    "print(est2.summary())"
   ]
  },
  {
   "cell_type": "code",
   "execution_count": null,
   "metadata": {
    "collapsed": true
   },
   "outputs": [],
   "source": [
    "    "
   ]
  },
  {
   "cell_type": "code",
   "execution_count": null,
   "metadata": {
    "collapsed": true
   },
   "outputs": [],
   "source": []
  },
  {
   "cell_type": "code",
   "execution_count": null,
   "metadata": {
    "collapsed": true
   },
   "outputs": [],
   "source": []
  }
 ],
 "metadata": {
  "kernelspec": {
   "display_name": "Python 2",
   "language": "python",
   "name": "python2"
  },
  "language_info": {
   "codemirror_mode": {
    "name": "ipython",
    "version": 2
   },
   "file_extension": ".py",
   "mimetype": "text/x-python",
   "name": "python",
   "nbconvert_exporter": "python",
   "pygments_lexer": "ipython2",
   "version": "2.7.13"
  }
 },
 "nbformat": 4,
 "nbformat_minor": 2
}
